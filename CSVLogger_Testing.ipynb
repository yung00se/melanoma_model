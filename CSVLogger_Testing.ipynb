{
  "nbformat": 4,
  "nbformat_minor": 0,
  "metadata": {
    "colab": {
      "provenance": []
    },
    "kernelspec": {
      "name": "python3",
      "display_name": "Python 3"
    },
    "language_info": {
      "name": "python"
    }
  },
  "cells": [
    {
      "cell_type": "code",
      "execution_count": 4,
      "metadata": {
        "id": "3WOpHaeNnJcq"
      },
      "outputs": [],
      "source": [
        "# The code in this notebook was generated with the help of ChatGPT by OpenAI.\n",
        "# Reviewed and modified by Daniel Bobadilla\n",
        "\n",
        "import tensorflow as tf\n",
        "from tensorflow.keras.models import Sequential\n",
        "from tensorflow.keras.layers import Conv2D, Flatten, Dense\n",
        "from tensorflow.keras.callbacks import CSVLogger\n",
        "\n",
        "import pandas as pd\n",
        "import numpy as np"
      ]
    },
    {
      "cell_type": "code",
      "source": [
        "# Generate random fake data\n",
        "num_samples = 100\n",
        "X_dummy = np.random.rand(num_samples, 28 * 28).astype(np.float32)  # Flattened 28x28 images\n",
        "y_dummy = np.random.randint(0, 10, size=(num_samples,))  # Random labels (0-9)\n",
        "\n",
        "# Convert to tf.data.Dataset\n",
        "dataset = tf.data.Dataset.from_tensor_slices((X_dummy, y_dummy)).batch(32)"
      ],
      "metadata": {
        "id": "dg2weBFPoMJc"
      },
      "execution_count": 5,
      "outputs": []
    },
    {
      "cell_type": "code",
      "source": [
        "# Define a simple model\n",
        "model = Sequential([\n",
        "    Dense(64, activation='relu', input_shape=(28*28,)),\n",
        "    Dense(10, activation='softmax')\n",
        "])"
      ],
      "metadata": {
        "colab": {
          "base_uri": "https://localhost:8080/"
        },
        "id": "HSMgnSeioJOa",
        "outputId": "43078f6a-9900-4b28-e6c3-948db1fec507"
      },
      "execution_count": 6,
      "outputs": [
        {
          "output_type": "stream",
          "name": "stderr",
          "text": [
            "/usr/local/lib/python3.11/dist-packages/keras/src/layers/core/dense.py:87: UserWarning: Do not pass an `input_shape`/`input_dim` argument to a layer. When using Sequential models, prefer using an `Input(shape)` object as the first layer in the model instead.\n",
            "  super().__init__(activity_regularizer=activity_regularizer, **kwargs)\n"
          ]
        }
      ]
    },
    {
      "cell_type": "code",
      "source": [
        "model.compile(optimizer='adam', loss='sparse_categorical_crossentropy', metrics=['accuracy'])\n",
        "\n",
        "# Use CSVLogger\n",
        "csv_logger = CSVLogger('dummy_training_log.csv', append=True)\n",
        "\n",
        "# Train the model on fake data\n",
        "model.fit(dataset, epochs=3, callbacks=[csv_logger])\n",
        "\n",
        "# Load and inspect the CSV file\n",
        "df = pd.read_csv('dummy_training_log.csv')\n",
        "print(df.head())  # View first few rows\n",
        "\n",
        "'''\n",
        "Output:\n",
        "Epoch 1/3\n",
        "4/4 ━━━━━━━━━━━━━━━━━━━━ 1s 6ms/step - accuracy: 0.1230 - loss: 2.4204\n",
        "Epoch 2/3\n",
        "4/4 ━━━━━━━━━━━━━━━━━━━━ 0s 4ms/step - accuracy: 0.1586 - loss: 2.2705\n",
        "Epoch 3/3\n",
        "4/4 ━━━━━━━━━━━━━━━━━━━━ 0s 4ms/step - accuracy: 0.1696 - loss: 2.2389\n",
        "   epoch  accuracy      loss  val_accuracy  val_loss\n",
        "0      0      0.12  2.444607           NaN       NaN\n",
        "1      1      0.17  2.252723           NaN       NaN\n",
        "2      2      0.20  2.199555           NaN       NaN\n",
        "'''"
      ],
      "metadata": {
        "colab": {
          "base_uri": "https://localhost:8080/"
        },
        "id": "dunFEDYtpQTN",
        "outputId": "e1b5bb53-7da0-4b9d-ce03-0d93f9ad9a78"
      },
      "execution_count": 7,
      "outputs": [
        {
          "output_type": "stream",
          "name": "stdout",
          "text": [
            "Epoch 1/3\n",
            "\u001b[1m4/4\u001b[0m \u001b[32m━━━━━━━━━━━━━━━━━━━━\u001b[0m\u001b[37m\u001b[0m \u001b[1m1s\u001b[0m 6ms/step - accuracy: 0.1230 - loss: 2.4204\n",
            "Epoch 2/3\n",
            "\u001b[1m4/4\u001b[0m \u001b[32m━━━━━━━━━━━━━━━━━━━━\u001b[0m\u001b[37m\u001b[0m \u001b[1m0s\u001b[0m 4ms/step - accuracy: 0.1586 - loss: 2.2705\n",
            "Epoch 3/3\n",
            "\u001b[1m4/4\u001b[0m \u001b[32m━━━━━━━━━━━━━━━━━━━━\u001b[0m\u001b[37m\u001b[0m \u001b[1m0s\u001b[0m 4ms/step - accuracy: 0.1696 - loss: 2.2389\n",
            "   epoch  accuracy      loss  val_accuracy  val_loss\n",
            "0      0      0.12  2.444607           NaN       NaN\n",
            "1      1      0.17  2.252723           NaN       NaN\n",
            "2      2      0.20  2.199555           NaN       NaN\n"
          ]
        }
      ]
    }
  ]
}
